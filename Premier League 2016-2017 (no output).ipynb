{
 "cells": [
  {
   "cell_type": "markdown",
   "metadata": {},
   "source": [
    "# 1. Retrieve data from the Premier League API and save locally"
   ]
  },
  {
   "cell_type": "code",
   "execution_count": null,
   "metadata": {
    "collapsed": true
   },
   "outputs": [],
   "source": [
    "import requests, cPickle, shutil, time"
   ]
  },
  {
   "cell_type": "code",
   "execution_count": null,
   "metadata": {
    "collapsed": true
   },
   "outputs": [],
   "source": [
    "# Retrieve data from the web API and store player data in a pickle file\n",
    "\n",
    "# Note: the max number of players expected might need to be changed depending on season\n",
    "MAX_NUMBER_PLAYERS = 700\n",
    "\n",
    "all = {}\n",
    "outfile = open(\"players2016.data.pickle\", \"w\")\n",
    "\n",
    "for i in range(MAX_NUMBER_PLAYERS):\n",
    "    playerurl = \"http://fantasy.premierleague.com/drf/element-summary/%s\"\n",
    "    r = requests.get(playerurl % i)\n",
    "\n",
    "    # skip non-existent players\n",
    "    if r.status_code != 200: continue\n",
    "\n",
    "    try:\n",
    "        all[i] = r.json()\n",
    "    except ValueError:\n",
    "        continue\n",
    "        \n",
    "cPickle.dump(all, outfile)\n",
    "\n",
    "outfile.close()"
   ]
  },
  {
   "cell_type": "code",
   "execution_count": null,
   "metadata": {
    "collapsed": false
   },
   "outputs": [],
   "source": [
    "# Pickle additional data\n",
    "\n",
    "outfile = open(\"static2016.data.pickle\", \"w\")\n",
    "staticurl = \"https://fantasy.premierleague.com/drf/bootstrap-static\"\n",
    "r = requests.get(staticurl)\n",
    "staticdata = r.json()\n",
    "cPickle.dump(staticdata, outfile)\n",
    "outfile.close()"
   ]
  },
  {
   "cell_type": "code",
   "execution_count": null,
   "metadata": {
    "collapsed": true
   },
   "outputs": [],
   "source": [
    "# TO-DO: load data from dynamic - might include current season's performance measurements"
   ]
  },
  {
   "cell_type": "markdown",
   "metadata": {},
   "source": [
    "# 2. Load saved data in notebook"
   ]
  },
  {
   "cell_type": "code",
   "execution_count": null,
   "metadata": {
    "collapsed": false
   },
   "outputs": [],
   "source": [
    "# Load player data from the pickle file\n",
    "\n",
    "import cPickle\n",
    "players = cPickle.load(open(\"players2016.data.pickle\",\"rb\"))\n",
    "players[1]"
   ]
  },
  {
   "cell_type": "code",
   "execution_count": null,
   "metadata": {
    "collapsed": false
   },
   "outputs": [],
   "source": [
    "len(players)"
   ]
  },
  {
   "cell_type": "code",
   "execution_count": null,
   "metadata": {
    "collapsed": true
   },
   "outputs": [],
   "source": [
    "static = cPickle.load(open(\"static2016.data.pickle\",\"rb\"))"
   ]
  },
  {
   "cell_type": "code",
   "execution_count": null,
   "metadata": {
    "collapsed": false
   },
   "outputs": [],
   "source": [
    "static[\"elements\"]"
   ]
  },
  {
   "cell_type": "code",
   "execution_count": null,
   "metadata": {
    "collapsed": false
   },
   "outputs": [],
   "source": [
    "teams = static[\"teams\"]"
   ]
  },
  {
   "cell_type": "code",
   "execution_count": null,
   "metadata": {
    "collapsed": false
   },
   "outputs": [],
   "source": [
    "teams[1]"
   ]
  },
  {
   "cell_type": "code",
   "execution_count": null,
   "metadata": {
    "collapsed": false
   },
   "outputs": [],
   "source": [
    "positions = static[\"element_types\"]\n",
    "positions"
   ]
  },
  {
   "cell_type": "markdown",
   "metadata": {},
   "source": [
    "# 3. Merge data into one table and save to CSV"
   ]
  },
  {
   "cell_type": "code",
   "execution_count": null,
   "metadata": {
    "collapsed": false
   },
   "outputs": [],
   "source": [
    "import csv\n",
    "\n",
    "with open(\"playerdata.csv\", \"w\") as file:\n",
    "    csv_file = csv.writer(file)\n",
    "    csv_file.writerow(static[\"elements\"][0].keys()\n",
    "                      +[\"type_\"+k for k in static[\"element_types\"][0].keys()]\n",
    "                      +[\"team_\"+k for k in static[\"teams\"][0].keys()]\n",
    "                      +[\"fixtures_no\"]\n",
    "                      #+players[1].keys()\n",
    "                     ) \n",
    "    for i,element in enumerate(static[\"elements\"]):\n",
    "        vals = []\n",
    "        for v in element.values():\n",
    "            if isinstance(v, basestring): vals.append(v.encode('utf-8'))\n",
    "            else: vals.append(v)\n",
    "        playertype = positions[element[\"element_type\"]-1]\n",
    "        for p in playertype.values():\n",
    "            if isinstance(p, basestring): vals.append(p.encode('utf-8'))\n",
    "            else: vals.append(p)\n",
    "        teaminfo = teams[element[\"team\"]-1]\n",
    "        for t in teaminfo.values():\n",
    "            if isinstance(t, basestring): vals.append(t.encode('utf-8'))\n",
    "            else: vals.append(t)\n",
    "        vals.append(str(len(players[i+1][\"fixtures\"])))\n",
    "        #for param in players[i+1].values():\n",
    "        #    if isinstance(param, basestring): vals.append(param.encode('utf-8'))\n",
    "        #    else: vals.append(param)\n",
    "        csv_file.writerow(vals)"
   ]
  },
  {
   "cell_type": "markdown",
   "metadata": {},
   "source": [
    "# 4. Exploring what the data contains"
   ]
  },
  {
   "cell_type": "code",
   "execution_count": null,
   "metadata": {
    "collapsed": false
   },
   "outputs": [],
   "source": [
    "#Possible formations (API static)\n",
    "formations = {\"1-5-2-3\":[[0,0,1,0,0],[2,3,4,5,6],[0,7,0,8,0],[9,0,10,0,11],[12,0,13,14,15]],\"1-5-3-2\":[[0,0,1,0,0],[2,3,4,5,6],[7,0,8,0,9],[0,10,0,11,0],[12,0,13,14,15]],\"1-3-5-2\":[[0,0,1,0,0],[0,2,3,4,0],[5,6,7,8,9],[0,10,0,11,0],[12,0,13,14,15]],\"1-2-5-3\":[[0,0,1,0,0],[0,2,0,3,0],[4,5,6,7,8],[9,0,10,0,11],[12,0,13,14,15]],\"1-4-5-1\":[[0,0,1,0,0],[2,3,0,4,5],[6,7,8,9,10],[0,0,11,0,0],[12,0,13,14,15]],\"1-5-4-1\":[[0,0,1,0,0],[2,3,4,5,6],[7,8,0,9,10],[0,0,11,0,0],[12,0,13,14,15]],\"1-4-3-3\":[[0,0,1,0,0],[2,3,0,4,5],[0,6,7,8,0],[9,0,10,0,11],[12,0,13,14,15]],\"1-3-4-3\":[[0,0,1,0,0],[0,2,3,4,0],[5,6,0,7,8],[0,9,10,11,0],[12,0,13,14,15]],\"1-4-4-2\":[[0,0,1,0,0],[2,3,0,4,5],[6,7,0,8,9],[0,10,0,11,0],[12,0,13,14,15]]}\n",
    "default_formation = [[0,1,0,2,0],[3,4,5,6,7],[8,9,10,11,12],[0,13,14,15,0]]\n",
    "\n",
    "#Events and deadlines (API static)\n",
    "events = [{\"id\":1,\"name\":\"Gameweek 1\",\"deadline_time\":\"2016-08-13T10:30:00Z\",\"average_entry_score\":0,\"finished\":False,\"data_checked\":False,\"highest_scoring_entry\":\"\",\"deadline_time_epoch\":1471084200,\"deadline_time_game_offset\":3600,\"deadline_time_formatted\":\"13 Aug 11:30\",\"highest_score\":\"\"},{\"id\":2,\"name\":\"Gameweek 2\",\"deadline_time\":\"2016-08-19T18:00:00Z\",\"average_entry_score\":0,\"finished\":False,\"data_checked\":False,\"highest_scoring_entry\":\"\",\"deadline_time_epoch\":1471629600,\"deadline_time_game_offset\":3600,\"deadline_time_formatted\":\"19 Aug 19:00\",\"highest_score\":\"\"},{\"id\":3,\"name\":\"Gameweek 3\",\"deadline_time\":\"2016-08-27T10:30:00Z\",\"average_entry_score\":0,\"finished\":False,\"data_checked\":False,\"highest_scoring_entry\":\"\",\"deadline_time_epoch\":1472293800,\"deadline_time_game_offset\":3600,\"deadline_time_formatted\":\"27 Aug 11:30\",\"highest_score\":\"\"},{\"id\":4,\"name\":\"Gameweek 4\",\"deadline_time\":\"2016-09-10T10:30:00Z\",\"average_entry_score\":0,\"finished\":False,\"data_checked\":False,\"highest_scoring_entry\":\"\",\"deadline_time_epoch\":1473503400,\"deadline_time_game_offset\":3600,\"deadline_time_formatted\":\"10 Sep 11:30\",\"highest_score\":\"\"},{\"id\":5,\"name\":\"Gameweek 5\",\"deadline_time\":\"2016-09-16T18:00:00Z\",\"average_entry_score\":0,\"finished\":False,\"data_checked\":False,\"highest_scoring_entry\":\"\",\"deadline_time_epoch\":1474048800,\"deadline_time_game_offset\":3600,\"deadline_time_formatted\":\"16 Sep 19:00\",\"highest_score\":\"\"},{\"id\":6,\"name\":\"Gameweek 6\",\"deadline_time\":\"2016-09-24T10:30:00Z\",\"average_entry_score\":0,\"finished\":False,\"data_checked\":False,\"highest_scoring_entry\":\"\",\"deadline_time_epoch\":1474713000,\"deadline_time_game_offset\":3600,\"deadline_time_formatted\":\"24 Sep 11:30\",\"highest_score\":\"\"},{\"id\":7,\"name\":\"Gameweek 7\",\"deadline_time\":\"2016-10-01T13:00:00Z\",\"average_entry_score\":0,\"finished\":False,\"data_checked\":False,\"highest_scoring_entry\":\"\",\"deadline_time_epoch\":1475326800,\"deadline_time_game_offset\":3600,\"deadline_time_formatted\":\"01 Oct 14:00\",\"highest_score\":\"\"},{\"id\":8,\"name\":\"Gameweek 8\",\"deadline_time\":\"2016-10-15T13:00:00Z\",\"average_entry_score\":0,\"finished\":False,\"data_checked\":False,\"highest_scoring_entry\":\"\",\"deadline_time_epoch\":1476536400,\"deadline_time_game_offset\":3600,\"deadline_time_formatted\":\"15 Oct 14:00\",\"highest_score\":\"\"},{\"id\":9,\"name\":\"Gameweek 9\",\"deadline_time\":\"2016-10-22T13:00:00Z\",\"average_entry_score\":0,\"finished\":False,\"data_checked\":False,\"highest_scoring_entry\":\"\",\"deadline_time_epoch\":1477141200,\"deadline_time_game_offset\":3600,\"deadline_time_formatted\":\"22 Oct 14:00\",\"highest_score\":\"\"},{\"id\":10,\"name\":\"Gameweek 10\",\"deadline_time\":\"2016-10-29T13:00:00Z\",\"average_entry_score\":0,\"finished\":False,\"data_checked\":False,\"highest_scoring_entry\":\"\",\"deadline_time_epoch\":1477746000,\"deadline_time_game_offset\":3600,\"deadline_time_formatted\":\"29 Oct 14:00\",\"highest_score\":\"\"},{\"id\":11,\"name\":\"Gameweek 11\",\"deadline_time\":\"2016-11-05T14:00:00Z\",\"average_entry_score\":0,\"finished\":False,\"data_checked\":False,\"highest_scoring_entry\":\"\",\"deadline_time_epoch\":1478354400,\"deadline_time_game_offset\":0,\"deadline_time_formatted\":\"05 Nov 14:00\",\"highest_score\":\"\"},{\"id\":12,\"name\":\"Gameweek 12\",\"deadline_time\":\"2016-11-19T14:00:00Z\",\"average_entry_score\":0,\"finished\":False,\"data_checked\":False,\"highest_scoring_entry\":\"\",\"deadline_time_epoch\":1479564000,\"deadline_time_game_offset\":0,\"deadline_time_formatted\":\"19 Nov 14:00\",\"highest_score\":\"\"},{\"id\":13,\"name\":\"Gameweek 13\",\"deadline_time\":\"2016-11-26T14:00:00Z\",\"average_entry_score\":0,\"finished\":False,\"data_checked\":False,\"highest_scoring_entry\":\"\",\"deadline_time_epoch\":1480168800,\"deadline_time_game_offset\":0,\"deadline_time_formatted\":\"26 Nov 14:00\",\"highest_score\":\"\"},{\"id\":14,\"name\":\"Gameweek 14\",\"deadline_time\":\"2016-12-03T14:00:00Z\",\"average_entry_score\":0,\"finished\":False,\"data_checked\":False,\"highest_scoring_entry\":\"\",\"deadline_time_epoch\":1480773600,\"deadline_time_game_offset\":0,\"deadline_time_formatted\":\"03 Dec 14:00\",\"highest_score\":\"\"},{\"id\":15,\"name\":\"Gameweek 15\",\"deadline_time\":\"2016-12-10T14:00:00Z\",\"average_entry_score\":0,\"finished\":False,\"data_checked\":False,\"highest_scoring_entry\":\"\",\"deadline_time_epoch\":1481378400,\"deadline_time_game_offset\":0,\"deadline_time_formatted\":\"10 Dec 14:00\",\"highest_score\":\"\"},{\"id\":16,\"name\":\"Gameweek 16\",\"deadline_time\":\"2016-12-13T18:45:00Z\",\"average_entry_score\":0,\"finished\":False,\"data_checked\":False,\"highest_scoring_entry\":\"\",\"deadline_time_epoch\":1481654700,\"deadline_time_game_offset\":0,\"deadline_time_formatted\":\"13 Dec 18:45\",\"highest_score\":\"\"},{\"id\":17,\"name\":\"Gameweek 17\",\"deadline_time\":\"2016-12-17T14:00:00Z\",\"average_entry_score\":0,\"finished\":False,\"data_checked\":False,\"highest_scoring_entry\":\"\",\"deadline_time_epoch\":1481983200,\"deadline_time_game_offset\":0,\"deadline_time_formatted\":\"17 Dec 14:00\",\"highest_score\":\"\"},{\"id\":18,\"name\":\"Gameweek 18\",\"deadline_time\":\"2016-12-26T14:00:00Z\",\"average_entry_score\":0,\"finished\":False,\"data_checked\":False,\"highest_scoring_entry\":\"\",\"deadline_time_epoch\":1482760800,\"deadline_time_game_offset\":0,\"deadline_time_formatted\":\"26 Dec 14:00\",\"highest_score\":\"\"},{\"id\":19,\"name\":\"Gameweek 19\",\"deadline_time\":\"2016-12-31T14:00:00Z\",\"average_entry_score\":0,\"finished\":False,\"data_checked\":False,\"highest_scoring_entry\":\"\",\"deadline_time_epoch\":1483192800,\"deadline_time_game_offset\":0,\"deadline_time_formatted\":\"31 Dec 14:00\",\"highest_score\":\"\"},{\"id\":20,\"name\":\"Gameweek 20\",\"deadline_time\":\"2017-01-02T14:00:00Z\",\"average_entry_score\":0,\"finished\":False,\"data_checked\":False,\"highest_scoring_entry\":\"\",\"deadline_time_epoch\":1483365600,\"deadline_time_game_offset\":0,\"deadline_time_formatted\":\"02 Jan 14:00\",\"highest_score\":\"\"},{\"id\":21,\"name\":\"Gameweek 21\",\"deadline_time\":\"2017-01-14T14:00:00Z\",\"average_entry_score\":0,\"finished\":False,\"data_checked\":False,\"highest_scoring_entry\":\"\",\"deadline_time_epoch\":1484402400,\"deadline_time_game_offset\":0,\"deadline_time_formatted\":\"14 Jan 14:00\",\"highest_score\":\"\"},{\"id\":22,\"name\":\"Gameweek 22\",\"deadline_time\":\"2017-01-21T14:00:00Z\",\"average_entry_score\":0,\"finished\":False,\"data_checked\":False,\"highest_scoring_entry\":\"\",\"deadline_time_epoch\":1485007200,\"deadline_time_game_offset\":0,\"deadline_time_formatted\":\"21 Jan 14:00\",\"highest_score\":\"\"},{\"id\":23,\"name\":\"Gameweek 23\",\"deadline_time\":\"2017-01-31T18:45:00Z\",\"average_entry_score\":0,\"finished\":False,\"data_checked\":False,\"highest_scoring_entry\":\"\",\"deadline_time_epoch\":1485888300,\"deadline_time_game_offset\":0,\"deadline_time_formatted\":\"31 Jan 18:45\",\"highest_score\":\"\"},{\"id\":24,\"name\":\"Gameweek 24\",\"deadline_time\":\"2017-02-04T14:00:00Z\",\"average_entry_score\":0,\"finished\":False,\"data_checked\":False,\"highest_scoring_entry\":\"\",\"deadline_time_epoch\":1486216800,\"deadline_time_game_offset\":0,\"deadline_time_formatted\":\"04 Feb 14:00\",\"highest_score\":\"\"},{\"id\":25,\"name\":\"Gameweek 25\",\"deadline_time\":\"2017-02-11T14:00:00Z\",\"average_entry_score\":0,\"finished\":False,\"data_checked\":False,\"highest_scoring_entry\":\"\",\"deadline_time_epoch\":1486821600,\"deadline_time_game_offset\":0,\"deadline_time_formatted\":\"11 Feb 14:00\",\"highest_score\":\"\"},{\"id\":26,\"name\":\"Gameweek 26\",\"deadline_time\":\"2017-02-25T14:45:00Z\",\"average_entry_score\":0,\"finished\":False,\"data_checked\":False,\"highest_scoring_entry\":\"\",\"deadline_time_epoch\":1488033900,\"deadline_time_game_offset\":0,\"deadline_time_formatted\":\"25 Feb 14:45\",\"highest_score\":\"\"},{\"id\":27,\"name\":\"Gameweek 27\",\"deadline_time\":\"2017-03-04T14:00:00Z\",\"average_entry_score\":0,\"finished\":False,\"data_checked\":False,\"highest_scoring_entry\":\"\",\"deadline_time_epoch\":1488636000,\"deadline_time_game_offset\":0,\"deadline_time_formatted\":\"04 Mar 14:00\",\"highest_score\":\"\"},{\"id\":28,\"name\":\"Gameweek 28\",\"deadline_time\":\"2017-03-11T14:00:00Z\",\"average_entry_score\":0,\"finished\":False,\"data_checked\":False,\"highest_scoring_entry\":\"\",\"deadline_time_epoch\":1489240800,\"deadline_time_game_offset\":0,\"deadline_time_formatted\":\"11 Mar 14:00\",\"highest_score\":\"\"},{\"id\":29,\"name\":\"Gameweek 29\",\"deadline_time\":\"2017-03-18T14:00:00Z\",\"average_entry_score\":0,\"finished\":False,\"data_checked\":False,\"highest_scoring_entry\":\"\",\"deadline_time_epoch\":1489845600,\"deadline_time_game_offset\":0,\"deadline_time_formatted\":\"18 Mar 14:00\",\"highest_score\":\"\"},{\"id\":30,\"name\":\"Gameweek 30\",\"deadline_time\":\"2017-04-01T13:00:00Z\",\"average_entry_score\":0,\"finished\":False,\"data_checked\":False,\"highest_scoring_entry\":\"\",\"deadline_time_epoch\":1491051600,\"deadline_time_game_offset\":3600,\"deadline_time_formatted\":\"01 Apr 14:00\",\"highest_score\":\"\"},{\"id\":31,\"name\":\"Gameweek 31\",\"deadline_time\":\"2017-04-04T17:45:00Z\",\"average_entry_score\":0,\"finished\":False,\"data_checked\":False,\"highest_scoring_entry\":\"\",\"deadline_time_epoch\":1491327900,\"deadline_time_game_offset\":3600,\"deadline_time_formatted\":\"04 Apr 18:45\",\"highest_score\":\"\"},{\"id\":32,\"name\":\"Gameweek 32\",\"deadline_time\":\"2017-04-08T13:00:00Z\",\"average_entry_score\":0,\"finished\":False,\"data_checked\":False,\"highest_scoring_entry\":\"\",\"deadline_time_epoch\":1491656400,\"deadline_time_game_offset\":3600,\"deadline_time_formatted\":\"08 Apr 14:00\",\"highest_score\":\"\"},{\"id\":33,\"name\":\"Gameweek 33\",\"deadline_time\":\"2017-04-15T13:00:00Z\",\"average_entry_score\":0,\"finished\":False,\"data_checked\":False,\"highest_scoring_entry\":\"\",\"deadline_time_epoch\":1492261200,\"deadline_time_game_offset\":3600,\"deadline_time_formatted\":\"15 Apr 14:00\",\"highest_score\":\"\"},{\"id\":34,\"name\":\"Gameweek 34\",\"deadline_time\":\"2017-04-22T13:00:00Z\",\"average_entry_score\":0,\"finished\":False,\"data_checked\":False,\"highest_scoring_entry\":\"\",\"deadline_time_epoch\":1492866000,\"deadline_time_game_offset\":3600,\"deadline_time_formatted\":\"22 Apr 14:00\",\"highest_score\":\"\"},{\"id\":35,\"name\":\"Gameweek 35\",\"deadline_time\":\"2017-04-29T13:00:00Z\",\"average_entry_score\":0,\"finished\":False,\"data_checked\":False,\"highest_scoring_entry\":\"\",\"deadline_time_epoch\":1493470800,\"deadline_time_game_offset\":3600,\"deadline_time_formatted\":\"29 Apr 14:00\",\"highest_score\":\"\"},{\"id\":36,\"name\":\"Gameweek 36\",\"deadline_time\":\"2017-05-06T13:00:00Z\",\"average_entry_score\":0,\"finished\":False,\"data_checked\":False,\"highest_scoring_entry\":\"\",\"deadline_time_epoch\":1494075600,\"deadline_time_game_offset\":3600,\"deadline_time_formatted\":\"06 May 14:00\",\"highest_score\":\"\"},{\"id\":37,\"name\":\"Gameweek 37\",\"deadline_time\":\"2017-05-13T13:00:00Z\",\"average_entry_score\":0,\"finished\":False,\"data_checked\":False,\"highest_scoring_entry\":\"\",\"deadline_time_epoch\":1494680400,\"deadline_time_game_offset\":3600,\"deadline_time_formatted\":\"13 May 14:00\",\"highest_score\":\"\"},{\"id\":38,\"name\":\"Gameweek 38\",\"deadline_time\":\"2017-05-21T13:00:00Z\",\"average_entry_score\":0,\"finished\":False,\"data_checked\":False,\"highest_scoring_entry\":\"\",\"deadline_time_epoch\":1495371600,\"deadline_time_game_offset\":3600,\"deadline_time_formatted\":\"21 May 14:00\",\"highest_score\":\"\"}]\n",
    "print \"Number of events:\"+str(len(events)) + \"\\n\"\n",
    "for event in events: print event[\"name\"] + \" \" + event[\"deadline_time_formatted\"]"
   ]
  },
  {
   "cell_type": "code",
   "execution_count": null,
   "metadata": {
    "collapsed": false
   },
   "outputs": [],
   "source": [
    "# Positions (static API)\n",
    "positions = [{\"id\":1,\"singular_name\":\"Goalkeeper\",\"singular_name_short\":\"GKP\",\"plural_name\":\"Goalkeepers\",\"plural_name_short\":\"GKP\"},{\"id\":2,\"singular_name\":\"Defender\",\"singular_name_short\":\"DEF\",\"plural_name\":\"Defenders\",\"plural_name_short\":\"DEF\"},{\"id\":3,\"singular_name\":\"Midfielder\",\"singular_name_short\":\"MID\",\"plural_name\":\"Midfielders\",\"plural_name_short\":\"MID\"},{\"id\":4,\"singular_name\":\"Forward\",\"singular_name_short\":\"FWD\",\"plural_name\":\"Forwards\",\"plural_name_short\":\"FWD\"}]\n",
    "positions"
   ]
  },
  {
   "cell_type": "code",
   "execution_count": null,
   "metadata": {
    "collapsed": false
   },
   "outputs": [],
   "source": [
    "players[123][\"fixtures\"]"
   ]
  },
  {
   "cell_type": "code",
   "execution_count": null,
   "metadata": {
    "collapsed": false
   },
   "outputs": [],
   "source": [
    "players[2].keys()"
   ]
  },
  {
   "cell_type": "code",
   "execution_count": null,
   "metadata": {
    "collapsed": true
   },
   "outputs": [],
   "source": [
    "# Players contains info on performance of player in past seasons, and upcoming team games (fixtures)"
   ]
  },
  {
   "cell_type": "markdown",
   "metadata": {},
   "source": [
    "# 5. Rules"
   ]
  },
  {
   "cell_type": "code",
   "execution_count": null,
   "metadata": {
    "collapsed": true
   },
   "outputs": [],
   "source": [
    "# Selection of team - number of players and player types\n",
    "TOTAL_TEAM = 15\n",
    "TOTAL_GKP = 2\n",
    "TOTAL_DEF = 5\n",
    "TOTAL_MID = 5\n",
    "TOTAL_FWD = 3\n",
    "MAX_SAME_PLTEAM = 3\n",
    "# Selection of start team - number of players and player types\n",
    "START_TEAM = 11\n",
    "START_GKP_MIN = 1\n",
    "START_DEF_MIN = 3\n",
    "START_MID_MIN = 0\n",
    "START_FWD_MIN = 1\n",
    "START_CAPTAIN = 1 # points will be doubled\n",
    "START_VICECAPTAIN = 1 #points will be doubled if captain does not play\n",
    "# Budget\n",
    "BUDGET = 100\n",
    "CURRENT_BUDGET = 99\n",
    "# TO-DO: function to update CURRENT_BUDGET - if it is not the start of the season, we need to compute how much there is actually in the bank\n",
    "# based on the cost of the players (note the sell fee)\n",
    "# Transfers\n",
    "FREE_TRANSFERS = 1 # one each week, accumulates if not used for next week\n",
    "COST_TRANSFER = 4 # 4 points from score (both for classic and head-to-head)\n",
    "# Sell-on fee\n",
    "COST_SELL_FEE = 0.5 # taken from the profit from buying and then selling a player\n",
    "# Points\n",
    "POINTS_PLAYING_LESS_60MINS = 1\n",
    "POINTS_PLAYING_MORE_60MINS = 2\n",
    "POINTS_GOAL_SCORED_GKP = 6\n",
    "POINTS_GOAL_SCORED_DEF = 6\n",
    "POINTS_GOAL_SCORED_MID = 5\n",
    "POINTS_GOAL_SCORED_FWD = 4\n",
    "POINTS_GOAL_ASSIST = 3\n",
    "POINTS_CLEAN_SHEET_GKP = 4 # A clean sheet is awarded for not conceding a goal whilst on the pitch and playing at least 60 minutes.\n",
    "POINTS_CLEAN_SHEET_DEF = 4\n",
    "POINTS_CLEAN_SHEET_MID = 1\n",
    "POINTS_3_SHOT_SAVES_GKP = 1\n",
    "POINTS_PENALTY_SAVE = 5\n",
    "POINTS_PENALTY_MISS = -2\n",
    "POINTS_BONUS_BEST_PLAYER_MIN = 1 # The three best performing players in each match will be awarded bonus points.\n",
    "POINTS_BONUS_BEST_PLAYER_MAX = 3\n",
    "# Note: logic for granting the bonus points is also defined in the rules (TO-DO?)\n",
    "POINTS_2_GOAL_CONCEDED_GKP = -1\n",
    "POINTS_2_GOAL_CONCEDED_DEF = -1\n",
    "POINTS_YELLOW_CARD = -1\n",
    "POINTS_RED_CARD = -3 # Red card deductions include any points deducted for yellow cards\n",
    "POINTS_OWN_GOAL = -2\n",
    "\n",
    "# Chips\n",
    "# TO-DO: include chips info\n",
    "# All Out Attack : Allows you to play a 2-5-3 formation in the next Gameweek.\n",
    "# Bench Boost : The points scored by your bench players in the next Gameweek are included in your total. \n",
    "# Triple Captain : Your captain points are tripled instead of doubled in the next Gameweek.\n",
    "# Wildcard: All transfers (including those already made) in the Gameweek are free of charge.\n",
    "# The Wildcard chip can be used twice a season, once in the first half of the season (before 31 Dec 14:00) and once in the second half of the season.\n",
    "# only one chip may be active in a Gameweek.\n",
    "# When playing a wildcard, any saved free transfers will be lost. \n",
    "# When using a wildcard, you must remain within your current budget. There is no unlimited budget when using a wildcard.\n",
    "\n",
    "# Leagues\n",
    "# Classic: In a league with classic scoring, teams are ranked based on their total points in the game.\n",
    "# Head-to-head: 3 points are awarded for a win and 1 point for a draw\n",
    "\n",
    "# Definitions\n",
    "# Form = is a player’s average score per match, calculated from all matches played by his club in the last 30 days.\n",
    "# Difficulty = The Fixture Difficulty Rank (FDR) is based on a complex algorithm developed by Fantasy Premier League experts. A set of formulas process key Opta data variables, along with each team’s home and away form (past six matches), in order to generate a rank for the perceived difficulty of each Gameweek opponent. The FDR is designed to help FPL managers plan their transfer and team selection strategy and is reviewed on a weekly basis.\n",
    "# The ICT Index is a football statistical index developed specifically to assess a player as an FPL asset. It uses match event data to generate a single score for three key areas – Influence, Creativity and Threat. These figures then combine to create an individual’s ICT Index score. It condenses more than 40 match event statistics into four distinct scores. These offer a view on player performance for factors that are known to produce FPL points.\n",
    "#   1. Influence: Influence is the first measurement - this evaluates the degree to which that player has made an impact on a match, or matches over the season. It takes into account events and actions that could directly or indirectly effect the match outcome. At the very top level these are decisive actions like goals and assists. However, the Influence score also processes significant defensive actions to analyse the effectiveness of defenders and goalkeepers.\n",
    "#   2. Creativity: Creativity assesses player performance in terms of producing goal scoring opportunities for others. It can be used as a guide to identify the players most likely to supply assists. While this analyses frequency of passing and crossing, it also considers pitch location and the incisiveness of the final ball.\n",
    "#   3. Threat: Threat is the third measure, producing a value that examines a player’s threat on goal; it therefore gauges those individuals most likely to score goals. While attempts are the key action, the Index looks at pitch location, giving greater weight to actions that are regarded as the best openings to register a goal. All three of these scores are then combined to create an overall ICT Index score. That then offers a single figure that presents a view on that player as an FPL asset.\n"
   ]
  },
  {
   "cell_type": "markdown",
   "metadata": {},
   "source": [
    "# 6. To-Dos"
   ]
  },
  {
   "cell_type": "code",
   "execution_count": null,
   "metadata": {
    "collapsed": true
   },
   "outputs": [],
   "source": [
    "# AUTOMATIZATION:\n",
    "\n",
    "# If the selection of the team can be automated, propose new team selection \n",
    "# one day (or so) before the deadline, in order to have the most recent info\n",
    "# on the players and have time to update the team on the website (which\n",
    "# is done manually). Send the team proposal by email for example.\n",
    "\n",
    "# Collect data after gameweek in order to adapt the model based on the results.\n",
    "\n",
    "\n",
    "# SUPPORT SYSTEM:\n",
    "\n",
    "# (1) choosing full team\n",
    "# (2) making transfers given current team: evaluate if it is worth making any transfers and recommend which (1 or more)\n",
    "# (3) using chips given current team: evaluate when to use the chips\n"
   ]
  }
 ],
 "metadata": {
  "kernelspec": {
   "display_name": "Python 2",
   "language": "python",
   "name": "python2"
  },
  "language_info": {
   "codemirror_mode": {
    "name": "ipython",
    "version": 2
   },
   "file_extension": ".py",
   "mimetype": "text/x-python",
   "name": "python",
   "nbconvert_exporter": "python",
   "pygments_lexer": "ipython2",
   "version": "2.7.10"
  }
 },
 "nbformat": 4,
 "nbformat_minor": 0
}
