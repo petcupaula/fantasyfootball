{
 "cells": [
  {
   "cell_type": "code",
   "execution_count": null,
   "metadata": {
    "collapsed": false
   },
   "outputs": [],
   "source": [
    "import requests\n",
    "import _pickle as cPickle\n",
    "import shutil\n",
    "import time"
   ]
  },
  {
   "cell_type": "markdown",
   "metadata": {},
   "source": [
    "## 1. Retrieve data from the Premier League API and save locally"
   ]
  },
  {
   "cell_type": "code",
   "execution_count": null,
   "metadata": {
    "collapsed": true
   },
   "outputs": [],
   "source": [
    "outfile = open(\"players2017.data.pickle\", \"wb\")"
   ]
  },
  {
   "cell_type": "code",
   "execution_count": null,
   "metadata": {
    "collapsed": false
   },
   "outputs": [],
   "source": [
    "# Retrieve data from the web API and store player data in a pickle file\n",
    "\n",
    "# Note: the max number of players expected might need to be changed depending on season\n",
    "MAX_NUMBER_PLAYERS = 700\n",
    "\n",
    "all = {}\n",
    "\n",
    "for i in range(MAX_NUMBER_PLAYERS):\n",
    "    playerurl = \"http://fantasy.premierleague.com/drf/element-summary/%s\"\n",
    "    r = requests.get(playerurl % i)\n",
    "\n",
    "    # skip non-existent players\n",
    "    if r.status_code != 200: continue\n",
    "\n",
    "    try:\n",
    "        all[i] = r.json()\n",
    "    except ValueError:\n",
    "        continue\n",
    "        "
   ]
  },
  {
   "cell_type": "code",
   "execution_count": null,
   "metadata": {
    "collapsed": false
   },
   "outputs": [],
   "source": [
    "cPickle.dump(all, outfile)"
   ]
  },
  {
   "cell_type": "code",
   "execution_count": null,
   "metadata": {
    "collapsed": true
   },
   "outputs": [],
   "source": [
    "outfile.close()"
   ]
  },
  {
   "cell_type": "code",
   "execution_count": null,
   "metadata": {
    "collapsed": true
   },
   "outputs": [],
   "source": [
    "# Pickle additional data\n",
    "\n",
    "outfile = open(\"static2017.data.pickle\", \"wb\")\n",
    "staticurl = \"https://fantasy.premierleague.com/drf/bootstrap-static\"\n",
    "r = requests.get(staticurl)\n",
    "staticdata = r.json()\n",
    "cPickle.dump(staticdata, outfile)\n",
    "outfile.close()"
   ]
  },
  {
   "cell_type": "markdown",
   "metadata": {},
   "source": [
    "## 2. Load from pickle file"
   ]
  },
  {
   "cell_type": "code",
   "execution_count": null,
   "metadata": {
    "collapsed": false
   },
   "outputs": [],
   "source": [
    "# Load player data from the pickle file\n",
    "\n",
    "players = cPickle.load(open(\"players2017.data.pickle\",\"rb\"))\n",
    "\n",
    "static = cPickle.load(open(\"static2017.data.pickle\",\"rb\"))\n",
    "\n",
    "teams = static[\"teams\"]\n",
    "\n",
    "positions = static[\"element_types\"]\n"
   ]
  },
  {
   "cell_type": "markdown",
   "metadata": {},
   "source": [
    "## 3. Merge data into one table and save to CSV"
   ]
  },
  {
   "cell_type": "code",
   "execution_count": null,
   "metadata": {
    "collapsed": false
   },
   "outputs": [],
   "source": [
    "import csv\n",
    "\n",
    "with open(\"playerdata.csv\", \"w\") as file:\n",
    "    csv_file = csv.writer(file)\n",
    "    csv_file.writerow(list(static[\"elements\"][0].keys())\n",
    "                      +[\"type_\"+k for k in list(static[\"element_types\"][0].keys())]\n",
    "                      +[\"team_\"+k for k in list(static[\"teams\"][0].keys())]\n",
    "                      #+[\"fixtures_no\"]\n",
    "                      #+players[1].keys()\n",
    "                     ) \n",
    "    for i,element in enumerate(static[\"elements\"]):\n",
    "        vals = []\n",
    "        for v in element.values():\n",
    "            if isinstance(v, str): vals.append(v.encode('utf-8'))\n",
    "            else: vals.append(v)\n",
    "        playertype = positions[element[\"element_type\"]-1]\n",
    "        for p in playertype.values():\n",
    "            if isinstance(p, str): vals.append(p.encode('utf-8'))\n",
    "            else: vals.append(p)\n",
    "        teaminfo = teams[element[\"team\"]-1]\n",
    "        for t in teaminfo.values():\n",
    "            if isinstance(t, str): vals.append(t.encode('utf-8'))\n",
    "            else: vals.append(t)\n",
    "        #vals.append(str(len(players[i+1][\"fixtures\"])))\n",
    "        #for param in players[i+1].values():\n",
    "        #    if isinstance(param, basestring): vals.append(param.encode('utf-8'))\n",
    "        #    else: vals.append(param)\n",
    "        csv_file.writerow(vals)"
   ]
  }
 ],
 "metadata": {
  "kernelspec": {
   "display_name": "Python 3",
   "language": "python",
   "name": "python3"
  },
  "language_info": {
   "codemirror_mode": {
    "name": "ipython",
    "version": 3
   },
   "file_extension": ".py",
   "mimetype": "text/x-python",
   "name": "python",
   "nbconvert_exporter": "python",
   "pygments_lexer": "ipython3",
   "version": "3.6.0"
  }
 },
 "nbformat": 4,
 "nbformat_minor": 2
}
