{
 "cells": [
  {
   "cell_type": "markdown",
   "metadata": {},
   "source": [
    "This notebook provides an example of how the data from the Fantasy Football Premier League can be retrieved, explored and used to predict game results. Most of the code for the initial data structuring of the players data and the lp_solve computation used for the team selection is from http://billmill.org/fantasypl/."
   ]
  },
  {
   "cell_type": "markdown",
   "metadata": {},
   "source": [
    "# 1. Retrieve player data from the Premier League API"
   ]
  },
  {
   "cell_type": "code",
   "execution_count": null,
   "metadata": {
    "collapsed": false
   },
   "outputs": [],
   "source": [
    "# Retrieve data from the web API and store player data in a pickle file\n",
    "\n",
    "import requests, cPickle, shutil, time\n",
    "\n",
    "# Note: the max number of players expected might need to be changed depending on season\n",
    "MAX_NUMBER_PLAYERS = 700\n",
    "\n",
    "all = {}\n",
    "outfile = open(\"players.data.pickle\", \"w\")\n",
    "\n",
    "for i in range(MAX_NUMBER_PLAYERS):\n",
    "    playerurl = \"http://fantasy.premierleague.com/web/api/elements/%s/\"\n",
    "    r = requests.get(playerurl % i)\n",
    "\n",
    "    # skip non-existent players\n",
    "    if r.status_code != 200: continue\n",
    "\n",
    "    try:\n",
    "        all[i] = r.json()\n",
    "    except ValueError:\n",
    "        continue\n",
    "        \n",
    "cPickle.dump(all, outfile)\n",
    "\n",
    "outfile.close()"
   ]
  },
  {
   "cell_type": "code",
   "execution_count": null,
   "metadata": {
    "collapsed": false
   },
   "outputs": [],
   "source": [
    "# Load player data from the pickle file\n",
    "\n",
    "import cPickle\n",
    "players = cPickle.load(open(\"players.data.pickle\",\"rb\"))\n",
    "#players[1]"
   ]
  },
  {
   "cell_type": "code",
   "execution_count": null,
   "metadata": {
    "collapsed": false
   },
   "outputs": [],
   "source": [
    "# Create classes for players for convenience of retrieving the data\n",
    "\n",
    "# Note: the abbreviations might need to be updated based on season\n",
    "\n",
    "team_abbreviations = {\n",
    "    'Norwich': 'NOR',\n",
    "    'Cardiff City': 'CAR',\n",
    "    'Man City': 'MCI',\n",
    "    'Newcastle': 'NEW',\n",
    "    'West Brom': 'WBA',\n",
    "    'West Ham': 'WHU',\n",
    "    'Southampton': 'SOU',\n",
    "    'Sunderland': 'SUN',\n",
    "    'Stoke City': 'STK',\n",
    "    'Crystal Palace': 'CRY',\n",
    "    'Arsenal': 'ARS',\n",
    "    'Swansea': 'SWA',\n",
    "    'Liverpool': 'LIV',\n",
    "    'Hull City': 'HUL',\n",
    "    'Man Utd': 'MUN',\n",
    "    'Everton': 'EVE',\n",
    "    'Fulham': 'FUL',\n",
    "    #'Tottenham': 'TOT',\n",
    "    'Aston Villa': 'AVL',\n",
    "    'Chelsea': 'CHE',\n",
    "    'Bournemouth' : 'BOU',\n",
    "    'Watford': 'WAT',\n",
    "    'Stoke': 'STK',\n",
    "    'Spurs': 'TOT',\n",
    "    'Leicester' : 'LEI'\n",
    "    \n",
    "}\n",
    "\n",
    "class Game(object):\n",
    "    def __init__(self, game_json):\n",
    "        self.opp = game_json[2][:3]\n",
    "        self.loc = game_json[2][4] # \"A\" for away, \"H\" for home\n",
    "        self.points = game_json[19]\n",
    "        self.minutes = game_json[3]\n",
    "    \n",
    "    def __repr__(self):\n",
    "        return \"Game vs. %s %s: %s pts\" % (self.opp, self.loc, self.points)\n",
    "    \n",
    "class Player(object):\n",
    "    def __init__(self, player_json):\n",
    "        self.raw = player_json\n",
    "        self.games = [Game(g) for g in player_json[\"fixture_history\"][\"all\"]]\n",
    "        self.name = u\"{first_name} {second_name}\".format(**player_json)\n",
    "        self.cost = player_json[\"now_cost\"]\n",
    "        self.position = player_json[\"type_name\"]\n",
    "        self.team = team_abbreviations[player_json[\"team_name\"]]\n",
    "        self.idn = player_json[\"id\"]\n",
    "        self.news = player_json[\"news\"]\n",
    "        #self.news_return = player_json[\"news_return\"]\n",
    "        self.pos = self.shortname(self.position)\n",
    "        self.upcoming = self.get_upcoming_fixtures(player_json[\"fixtures\"][\"all\"])\n",
    "    \n",
    "    def get_upcoming_fixtures(self, fixtures):\n",
    "        upcoming = []\n",
    "        for _, gameweek, opponent in fixtures:\n",
    "            week = int(gameweek.split()[-1])\n",
    "            if opponent == \"-\":\n",
    "                continue\n",
    "            opp, loc = opponent.split('(')\n",
    "            opp = team_abbreviations[opp.strip()]\n",
    "            loc = loc[0]\n",
    "            upcoming.append((week, opp, loc))\n",
    "        return upcoming\n",
    "    \n",
    "    def shortname(self, position):\n",
    "        pos_abbreviations = {\n",
    "            \"Goalkeeper\": \"gk\",\n",
    "            \"Defender\": \"d\",\n",
    "            \"Midfielder\": \"m\",\n",
    "            \"Forward\": \"f\"\n",
    "        }\n",
    "        \n",
    "        return pos_abbreviations[position]\n",
    "    \n",
    "    def __repr__(self):\n",
    "        return \"#%s %s %s £%s %s\" % (self.idn, self.team, self.name.encode(\"ascii\", \"ignore\"), self.cost, self.pos)\n",
    "\n",
    "    def __unicode__(self):\n",
    "        return \"#%s %s £%s %s\" % (self.idn, self.name, self.cost, self.pos)\n",
    "\n",
    "player_objs = [Player(p) for p in players.itervalues()]\n",
    "\n",
    "def find_player(needle):\n",
    "    return [p for p in player_objs if needle.lower() in p.name.lower()]\n",
    "\n",
    "\n",
    "# Test that the new class works:\n",
    "\n",
    "p = find_player('Van Persie')[0]\n",
    "print p.name\n",
    "print p.position\n",
    "print p.cost\n",
    "print p.idn\n",
    "print p.upcoming[:3]  # upcoming games\n",
    "print p.games[:3]     # games he's already played\n",
    "print p"
   ]
  },
  {
   "cell_type": "markdown",
   "metadata": {},
   "source": [
    "# 2. Compute prediction factors and select a team by solving a linear optimisation problem"
   ]
  },
  {
   "cell_type": "code",
   "execution_count": null,
   "metadata": {
    "collapsed": false
   },
   "outputs": [],
   "source": [
    "# Compute opponent factor\n",
    "\n",
    "opponents = {}\n",
    "for player in players.itervalues():\n",
    "    for game in player[\"fixture_history\"][\"all\"]:\n",
    "        #skip games where the player played 0 minutes\n",
    "        if game[3] == 0: continue\n",
    "        opp = game[2][:3]\n",
    "        pts = game[19]\n",
    "        opponents.setdefault(opp, [0,0])[0] += pts\n",
    "        opponents[opp][1] += 1\n",
    "\n",
    "from collections import OrderedDict\n",
    "avgs = {}\n",
    "for opponent, (score, n) in opponents.iteritems():\n",
    "    avgs[opponent] = score/float(n)\n",
    "\n",
    "sorted_avgs = OrderedDict(sorted(avgs.items(), key=lambda t: t[1]))\n",
    "\n",
    "avg_opponent = sum(avgs.values())/float(len(avgs))\n"
   ]
  },
  {
   "cell_type": "code",
   "execution_count": null,
   "metadata": {
    "collapsed": false
   },
   "outputs": [],
   "source": [
    "# Compute homefield advantage\n",
    "\n",
    "homeaway = {\"A\": 0, \"H\": 0}\n",
    "n = 0.\n",
    "for player in player_objs:\n",
    "    #only consider full games to eliminate minute bias\n",
    "    for game in [p for p in player.games if p.minutes == 90]:\n",
    "        homeaway[game.loc] += game.points\n",
    "        n += 1\n",
    "\n",
    "homeaway[\"A\"] /= n\n",
    "homeaway[\"H\"] /= n\n",
    "\n",
    "homefield = homeaway[\"H\"] - homeaway[\"A\"]\n",
    "print homefield"
   ]
  },
  {
   "cell_type": "code",
   "execution_count": null,
   "metadata": {
    "collapsed": false
   },
   "outputs": [],
   "source": [
    "# Compute a player's expected value / points\n",
    "#\n",
    "# Factor in:\n",
    "#   - The opponent \n",
    "#   - Whether the game is away or home can be factored in, but not as important as opponent\n",
    "#   - Previous points obtained by the player\n",
    "\n",
    "\n",
    "# TO-DO: factor in the news?\n",
    "\n",
    "def adjusted_score(game):\n",
    "    pts = game.points\n",
    "    pts += homefield/2 if game.loc == \"A\" else -homefield/2\n",
    "    pts += avg_opponent - avgs[game.opp]\n",
    "    return pts\n",
    "    \n",
    "def adjusted_average(player):\n",
    "    return sum(adjusted_score(g) for g in player.games) / len(player.games)\n",
    "\n",
    "def game_value(game):\n",
    "    adj = 0\n",
    "    adj += homefield/2 if game[2] == \"H\" else -homefield/2\n",
    "    adj += avgs[game[1]] - avg_opponent\n",
    "    return adj\n",
    "    \n",
    "def expected_points(player, n=5):\n",
    "    \"\"\"return the number of expected points in the next n games\"\"\"\n",
    "    av = adjusted_average(player)\n",
    "    ev = 0.\n",
    "    for game in player.upcoming[:n]:\n",
    "        ev += av + game_value(game)\n",
    "    return ev/n\n",
    "\n",
    "print expected_points(find_player(u\"Mutch\")[0])\n",
    "print expected_points(find_player(u\"Sanogo\")[0])\n",
    "print expected_points(find_player(u\"Kane\")[0])"
   ]
  },
  {
   "cell_type": "code",
   "execution_count": null,
   "metadata": {
    "collapsed": false
   },
   "outputs": [],
   "source": [
    "# Add expected points to the players\n",
    "\n",
    "Player.expected_points = expected_points\n",
    "player_objs = [Player(p) for p in players.itervalues()]\n",
    "player_objs[1].expected_points()"
   ]
  },
  {
   "cell_type": "code",
   "execution_count": null,
   "metadata": {
    "collapsed": false
   },
   "outputs": [],
   "source": [
    "# Solve the linear optimisation problem:\n",
    "# Given the constraints:\n",
    "#   Total player cost < 100\n",
    "#   2 goalkeepers\n",
    "#   5 defenders\n",
    "#   5 midfielders\n",
    "#   3 forwards\n",
    "#   Maximize expected team value\n",
    "\n",
    "# TO-DO: instead of 100, use the total player cost that is current (if the web api can return this)\n",
    "# TO-DO: limitation on the number of players allowed from the same team (max players: 3)\n",
    "# TO-DO: there are actually two situations: (1) choosing full team (2) making 1 or 2 transfers\n"
   ]
  },
  {
   "cell_type": "code",
   "execution_count": null,
   "metadata": {
    "collapsed": false
   },
   "outputs": [],
   "source": [
    "# Solving the problem using lp-solve\n",
    "# Download from: http://lpsolve.sourceforge.net/5.5/\n",
    "\n",
    "def objective_function():\n",
    "    m = \" + \".join(\"{ev} {p.pos}{p.idn}\".format(p=p, ev=p.expected_points())\n",
    "                   for p in player_objs)\n",
    "    \n",
    "    return \"max: \" + m + \";\\n\"\n",
    "\n",
    "def cost_constraint(max_price):\n",
    "    c = \" + \".join(\"{p.cost} {p.pos}{p.idn}\".format(p=p)\n",
    "                   for p in player_objs)\n",
    "    \n",
    "    return \"cost_constraint: \" + c + \" <= %s;\\n\" % max_price\n",
    "\n",
    "def position_constraints():\n",
    "    constraints = StringIO.StringIO()\n",
    "\n",
    "    gks = [p for p in player_objs if p.position == \"Goalkeeper\"]\n",
    "    gk_list = \" + \".join((\"gk{p.idn}\".format(**locals()) for p in gks))\n",
    "    constraints.write(\"gk_limit: \" + gk_list + \" = 2;\\n\")\n",
    "    \n",
    "    ds = [p for p in player_objs if p.position == \"Defender\"]\n",
    "    d_list = \" + \".join((\"d{p.idn}\".format(**locals()) for p in ds))\n",
    "    constraints.write(\"d_limit: \" + d_list + \" = 5;\\n\")\n",
    "    \n",
    "    ms = [p for p in player_objs if p.position == \"Midfielder\"]\n",
    "    m_list = \" + \".join((\"m{p.idn}\".format(**locals()) for p in ms))\n",
    "    constraints.write(\"m_limit: \" + m_list + \" = 5;\\n\")\n",
    "    \n",
    "    fs = [p for p in player_objs if p.position == \"Forward\"]\n",
    "    f_list = \" + \".join((\"f{p.idn}\".format(**locals()) for p in fs))\n",
    "    constraints.write(\"f_limit: \" + f_list + \" = 3;\\n\")\n",
    "    \n",
    "    return constraints.getvalue()\n",
    "\n",
    "import StringIO\n",
    "#create a buffer to hold all the constraints\n",
    "buf = StringIO.StringIO()\n",
    "buf.write(objective_function())\n",
    "buf.write(cost_constraint(1000))\n",
    "buf.write(position_constraints())\n",
    "\n",
    "# I've skipped this, it's probably easier to skip the declaration of all the variable names?\n",
    "# not very exciting\n",
    "def all_player_variables():\n",
    "    variables = \", \".join(\"{p.pos}{p.idn}\".format(**locals()) for p in player_objs)\n",
    "    return \"bin %s;\\n\" % variables\n",
    "\n",
    "buf.write(all_player_variables())\n",
    "\n",
    "import subprocess, re\n",
    "\n",
    "def get_player(idn):\n",
    "    \"\"\"given an id, return a player\"\"\"\n",
    "    for p in player_objs:\n",
    "        if p.idn == idn: return p\n",
    "    raise ValueError(\"Unable to find player\")\n",
    "    \n",
    "def return_team(lp):\n",
    "    \"\"\"run lp_solve ands return a list of player objects\"\"\"\n",
    "    cmd = \"echo '%s' | ./lp_solve\" % lp\n",
    "    val = subprocess.check_output(cmd, shell=True).split('\\n')\n",
    "    get_id = lambda l: int(re.search(\"^\\w+?(\\d+)\", l).group(1))\n",
    "    team_ids = [get_id(l) for l in val if re.search(r\" 1$\", l)]\n",
    "    return map(get_player, team_ids)\n",
    "\n",
    "return_team(buf.getvalue())"
   ]
  },
  {
   "cell_type": "markdown",
   "metadata": {},
   "source": [
    "# 3. Current team"
   ]
  },
  {
   "cell_type": "code",
   "execution_count": null,
   "metadata": {
    "collapsed": false
   },
   "outputs": [],
   "source": [
    "# Name or full name of current team members \n",
    "my_team = ['Butland','Huth','Targett','Kolarov','van Dijk',\n",
    "           'Alderweireld','Arnautovic','Scott Sinclair',\n",
    "           'Mahrez','Vardy','Harry Kane','Myhill','Mata','Mesut','Lukaku']\n",
    "\n",
    "# In addition to a full team, how much money is there left in the bank:\n",
    "BANK = 29\n",
    "\n",
    "# Number of transfers (can be max 2):\n",
    "TRANSFERS = 2"
   ]
  },
  {
   "cell_type": "code",
   "execution_count": null,
   "metadata": {
    "collapsed": false,
    "scrolled": true
   },
   "outputs": [],
   "source": [
    "# Check if all teams are playing in the next gameweek, and if there are any news on any of the players\n",
    "\n",
    "my_players = []\n",
    "for member in my_team:\n",
    "    p = find_player(member)[0]\n",
    "    my_players.append(p)\n",
    "    print p.name, '\\t|', p.team, '\\t|', p.position, '\\t|', p.upcoming[:1], '\\t|', p.cost, '\\t|', p.news, '\\t|', p.expected_points()"
   ]
  },
  {
   "cell_type": "code",
   "execution_count": null,
   "metadata": {
    "collapsed": false
   },
   "outputs": [],
   "source": [
    "def get_team_fullname(abbrv):\n",
    "    return list(team_abbreviations.keys())[list(team_abbreviations.values()).index(abbrv)] + ' ('+abbrv+')'\n",
    "\n",
    "print get_team_fullname('MCI')"
   ]
  },
  {
   "cell_type": "code",
   "execution_count": null,
   "metadata": {
    "collapsed": false
   },
   "outputs": [],
   "source": [
    "# How many players from each team?\n",
    "\n",
    "from pprint import pprint\n",
    "\n",
    "teams = {}\n",
    "for player in my_players:\n",
    "    if get_team_fullname(player.team) in teams: teams[get_team_fullname(player.team)] += 1\n",
    "    else: teams[get_team_fullname(player.team)] = 1\n",
    "\n",
    "pprint(teams)"
   ]
  },
  {
   "cell_type": "code",
   "execution_count": null,
   "metadata": {
    "collapsed": false
   },
   "outputs": [],
   "source": [
    "# Games next week\n",
    "\n",
    "for player in my_players:\n",
    "    print get_team_fullname(player.team),'-',get_team_fullname(player.upcoming[:1][0][1])"
   ]
  },
  {
   "cell_type": "code",
   "execution_count": null,
   "metadata": {
    "collapsed": false
   },
   "outputs": [],
   "source": [
    "# Compute total team value\n",
    "\n",
    "budget = BANK\n",
    "for player in my_players: budget += player.cost\n",
    "\n",
    "print budget"
   ]
  },
  {
   "cell_type": "code",
   "execution_count": null,
   "metadata": {
    "collapsed": false
   },
   "outputs": [],
   "source": [
    "transfers_left = TRANSFERS\n",
    "\n",
    "# If there are any injuries, remove those first\n",
    "    \n",
    "# Then if there are transfers left, compute the best transfer(s) given the budget\n",
    "\n",
    "# But, should it only take into consideration the budget available this week, or maybe also consider the moves available next week?\n",
    "# During each gameweek, one transfer is allowed, and if a transfer is not used, it will be put on the next week (but there can't\n",
    "# be more than 2 transfers in total per week)\n",
    "\n",
    "# Also, maybe there is an optimisation that can be done when playing head2head, given that we know the opponent's team \n",
    "# (except 1 or 2 transfers that the opponent is allowed to make and will not be visible before the game)"
   ]
  },
  {
   "cell_type": "code",
   "execution_count": null,
   "metadata": {
    "collapsed": true
   },
   "outputs": [],
   "source": [
    "# Note: we need to take into consideration the next min. 3 gameweeks\n",
    "# and which teams play, as there are some weeks when only some teams play\n",
    "# and the team should be maximised towards that\n",
    "\n",
    "# Note: another strategy towards making the team could be to speculate\n",
    "# on players for which the price will increase over time - what a bigger \n",
    "# budget would allow is more transfers and exchanging players of different values\n",
    "\n",
    "# Note: the opponent has a max of 2 *free* transfers, but if the budget allows,\n",
    "# one can buy transfers (think it is around 4 mil. but need to check)\n",
    "\n",
    "# Note: the order of the players on the bench does matter!\n",
    "\n",
    "# Note: take into consideration whether the players play in other championships\n",
    "# as well and their game and participation might be affected by that."
   ]
  }
 ],
 "metadata": {
  "kernelspec": {
   "display_name": "Python 2",
   "language": "python",
   "name": "python2"
  },
  "language_info": {
   "codemirror_mode": {
    "name": "ipython",
    "version": 2
   },
   "file_extension": ".py",
   "mimetype": "text/x-python",
   "name": "python",
   "nbconvert_exporter": "python",
   "pygments_lexer": "ipython2",
   "version": "2.7.10"
  }
 },
 "nbformat": 4,
 "nbformat_minor": 0
}
